{
  "nbformat": 4,
  "nbformat_minor": 0,
  "metadata": {
    "colab": {
      "provenance": []
    },
    "kernelspec": {
      "name": "python3",
      "display_name": "Python 3"
    },
    "language_info": {
      "name": "python"
    }
  },
  "cells": [
    {
      "cell_type": "markdown",
      "source": [
        "**Question 1:** Explain the differences between AI, ML, Deep Learning (DL), and Data Science (DS) ?\n",
        "\n",
        "**Answer -1** AI: Broad field of creating systems that mimic human intelligence (problem solving, reasoning).\n",
        "ML: Subset of AI where systems learn patterns from data (e.g., spam detection).\n",
        "DL: Subset of ML using neural networks with many layers, great for images/text (e.g., face recognition).\n",
        "DS: Interdisciplinary field combining statistics, ML, and domain knowledge for insights (e.g., customer segmentation).\n",
        "\n",
        "***Question 2***: What are the types of machine learning? Describe each with one real-world example.\n",
        "\n",
        "**Answer - 2**\n",
        "1. Supervised Learning: Learns from labeled data. Example: Predicting house prices.\n",
        "2. Unsupervised Learning: Finds hidden patterns in unlabeled data. Example: Customer segmentation.\n",
        "3. Reinforcement Learning: Learns via rewards/punishments. Example: AlphaGo game playing.\n",
        "4. Semi-Supervised Learning: Uses both labeled & unlabeled data. Example: Medical diagnosis.\n",
        "\n",
        "**Question 3**: Define overfitting, underfitting, and the bias-variance tradeoff in machine learning.\n",
        "\n",
        "**Answer - 3**\n",
        "\n",
        "Overfitting: Model learns noise, performs well on training but poorly on test data.\n",
        "Underfitting: Model too simple, fails to capture data patterns.\n",
        "Bias-Variance Tradeoff: Balance between bias (underfitting) and variance (overfitting).\n",
        "\n",
        "**Question 4**: What are outliers in a dataset, and list three common techniques for handling them.\n",
        "\n",
        "**Answer - 4**\n",
        "\n",
        "Outliers: Data points that deviate significantly from others.\n",
        "Techniques:\n",
        "1. Z-score or IQR method for detection/removal.\n",
        "2. Capping (Winsorization).\n",
        "3. Transformation (e.g., log scaling).\n",
        "\n",
        "**Question 5**: Explain the process of handling missing values and mention one imputation technique for numerical and one for categorical data.\n",
        "\n",
        "**Answer - 5**\n",
        "\n",
        "Steps: Identify missing → analyze → choose imputation method → validate.\n",
        "Numerical: Mean/Median imputation.\n",
        "Categorical: Mode imputation\n"
      ],
      "metadata": {
        "id": "LgEpVZatc1fr"
      }
    },
    {
      "cell_type": "code",
      "source": [
        "#Write a Python program that creates an imbalanced dataset and prints the class distribution.\n",
        "\n",
        "from sklearn.datasets import make_classification\n",
        "import numpy as np\n",
        "from collections import Counter\n",
        "\n",
        "X, y = make_classification(n_samples=1000, n_features=5, n_classes=2,\n",
        "                           weights=[0.9, 0.1], random_state=42)\n",
        "\n",
        "print(\"Class distribution:\", Counter(y))\n"
      ],
      "metadata": {
        "colab": {
          "base_uri": "https://localhost:8080/"
        },
        "id": "ivfNdJFSdqoz",
        "outputId": "52007290-f507-4d2d-c04b-9f25021e51d4"
      },
      "execution_count": 1,
      "outputs": [
        {
          "output_type": "stream",
          "name": "stdout",
          "text": [
            "Class distribution: Counter({np.int64(0): 895, np.int64(1): 105})\n"
          ]
        }
      ]
    },
    {
      "cell_type": "code",
      "source": [
        "#Implement one-hot encoding using pandas for the list ['Red', 'Green', 'Blue', 'Green', 'Red'].\n",
        "\n",
        "import pandas as pd\n",
        "\n",
        "colors = ['Red', 'Green', 'Blue', 'Green', 'Red']\n",
        "df = pd.DataFrame(colors, columns=['Color'])\n",
        "encoded = pd.get_dummies(df, columns=['Color'])\n",
        "print(encoded)\n"
      ],
      "metadata": {
        "colab": {
          "base_uri": "https://localhost:8080/"
        },
        "id": "bEY9aRn8d5sn",
        "outputId": "91fffb41-28a3-48ce-ddb7-ad1131d705e6"
      },
      "execution_count": 2,
      "outputs": [
        {
          "output_type": "stream",
          "name": "stdout",
          "text": [
            "   Color_Blue  Color_Green  Color_Red\n",
            "0       False        False       True\n",
            "1       False         True      False\n",
            "2        True        False      False\n",
            "3       False         True      False\n",
            "4       False        False       True\n"
          ]
        }
      ]
    },
    {
      "cell_type": "code",
      "source": [
        "#Write a Python script to generate samples, add missing values, impute, and plot histograms.\n",
        "import numpy as np\n",
        "import pandas as pd\n",
        "import matplotlib.pyplot as plt\n",
        "\n",
        "# Generate normal data\n",
        "data = np.random.randn(1000)\n",
        "\n",
        "# Introduce missing values\n",
        "data[np.random.choice(1000, 50, replace=False)] = np.nan\n",
        "df = pd.DataFrame(data, columns=[\"Value\"])\n",
        "\n",
        "# Plot before imputation\n",
        "df[\"Value\"].hist(bins=30)\n",
        "plt.title(\"Before Imputation\")\n",
        "plt.show()\n",
        "\n",
        "# Impute missing with mean\n",
        "df[\"Value\"].fillna(df[\"Value\"].mean(), inplace=True)\n",
        "\n",
        "# Plot after imputation\n",
        "df[\"Value\"].hist(bins=30)\n",
        "plt.title(\"After Imputation\")\n",
        "plt.show()\n"
      ],
      "metadata": {
        "colab": {
          "base_uri": "https://localhost:8080/",
          "height": 1000
        },
        "id": "45tTJvaEd8l3",
        "outputId": "64c2164e-5d9b-468b-ce0e-cc3a0e0beb6e"
      },
      "execution_count": 3,
      "outputs": [
        {
          "output_type": "display_data",
          "data": {
            "text/plain": [
              "<Figure size 640x480 with 1 Axes>"
            ],
            "image/png": "[encoded data removed]"
          },
          "metadata": {}
        },
        {
          "output_type": "stream",
          "name": "stderr",
          "text": [
            "/tmp/ipython-input-127263800.py:19: FutureWarning: A value is trying to be set on a copy of a DataFrame or Series through chained assignment using an inplace method.\n",
            "The behavior will change in pandas 3.0. This inplace method will never work because the intermediate object on which we are setting values always behaves as a copy.\n",
            "\n",
            "For example, when doing 'df[col].method(value, inplace=True)', try using 'df.method({col: value}, inplace=True)' or df[col] = df[col].method(value) instead, to perform the operation inplace on the original object.\n",
            "\n",
            "\n",
            "  df[\"Value\"].fillna(df[\"Value\"].mean(), inplace=True)\n"
          ]
        },
        {
          "output_type": "display_data",
          "data": {
            "text/plain": [
              "<Figure size 640x480 with 1 Axes>"
            ],
            "image/png": "[encoded data removed]"
          },
          "metadata": {}
        }
      ]
    },
    {
      "cell_type": "code",
      "source": [
        "#Implement Min-Max scaling on [2, 5, 10, 15, 20].\n",
        "\n",
        "from sklearn.preprocessing import MinMaxScaler\n",
        "import numpy as np\n",
        "\n",
        "data = np.array([[2], [5], [10], [15], [20]])\n",
        "scaler = MinMaxScaler()\n",
        "scaled = scaler.fit_transform(data)\n",
        "print(scaled.flatten())\n"
      ],
      "metadata": {
        "colab": {
          "base_uri": "https://localhost:8080/"
        },
        "id": "JX5lk_7geAn_",
        "outputId": "d1d0ee63-e4e8-4434-9b61-aa096a71ae73"
      },
      "execution_count": 4,
      "outputs": [
        {
          "output_type": "stream",
          "name": "stdout",
          "text": [
            "[0.         0.16666667 0.44444444 0.72222222 1.        ]\n"
          ]
        }
      ]
    },
    {
      "cell_type": "markdown",
      "source": [
        "**Question 10**: Data preparation plan for customer transaction dataset.\n",
        "\n",
        "**Answer - 10 **\n",
        "1. Handle Missing Ages → Impute using mean/median or predictive model.\n",
        "2. Handle Outliers → Detect with IQR/Z-score, cap values.\n",
        "3. Handle Imbalance → SMOTE/oversampling/undersampling, or class weights.\n",
        "4. Encode Categorical Variables → One-hot for nominal, label encoding for ordinal.\n",
        "5. Scale Numerical Data → StandardScaler or MinMaxScaler.\n",
        "6. Train-Test Split → Balanced representation.\n",
        "7. Validation → Cross-validation to ensure generalization.\n"
      ],
      "metadata": {
        "id": "kgQlC7pueD0D"
      }
    }
  ]
}