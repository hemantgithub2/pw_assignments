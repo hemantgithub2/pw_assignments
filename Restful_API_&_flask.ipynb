{
  "nbformat": 4,
  "nbformat_minor": 0,
  "metadata": {
    "colab": {
      "provenance": []
    },
    "kernelspec": {
      "name": "python3",
      "display_name": "Python 3"
    },
    "language_info": {
      "name": "python"
    }
  },
  "cells": [
    {
      "cell_type": "markdown",
      "source": [
        "Question 1. What is a RESTful API?\n",
        "\n",
        "Answer 1. A RESTful API (Representational State Transfer API) is a web service that follows REST principles. It allows communication between client and server using HTTP methods like GET, POST, PUT, DELETE. RESTful APIs are stateless, resource-oriented, and return data in formats such as JSON or XML.\n",
        "\n",
        "Question 2. Explain the concept of API specification.\n",
        "\n",
        "Answer 2. An API specification defines how an API should behave. It includes details such as endpoints, request/response formats, data types, authentication, and error handling. Specifications like OpenAPI/Swagger ensure developers understand how to interact with the API consistently.\n",
        "\n",
        "Question 3. What is Flask, and why is it popular for building APIs?\n",
        "\n",
        "Answer 3. Flask is a lightweight Python web framework used for building web applications and APIs. It is popular because it is simple and flexible, provides built-in support for routing, templating, and request handling, easily integrates with databases and extensions, and is suitable for both beginners and professionals.\n",
        "\n",
        "Question 4. What is routing in Flask?\n",
        "\n",
        "Answer 4. Routing in Flask refers to mapping a URL path to a specific function. Each route corresponds to a function (view) that executes when a user visits that URL.\n",
        "\n",
        "Question 5. How do you create a simple Flask application?\n",
        "\n",
        "Answer 5. from flask import Flask\n",
        "app = Flask(__name__)\n",
        "\n",
        "@app.route(\"/\")\n",
        "def home():\n",
        "    return \"Hello, Flask!\"\n",
        "\n",
        "if __name__ == \"__main__\":\n",
        "    app.run(debug=True)\n",
        "\n",
        "Question 6. What are HTTP methods used in RESTful APIs?\n",
        "\n",
        "Answer 6. GET – Retrieve data; POST – Create new data; PUT – Update existing data; DELETE – Remove data; PATCH – Partially update data.\n",
        "\n",
        "Question 7. What is the purpose of the @app.route() decorator in Flask?\n",
        "\n",
        "Answer 7. The @app.route() decorator defines a route in Flask. It maps a URL to a function that should run when that URL is requested.\n",
        "\n",
        "Question 8. What is the difference between GET and POST HTTP methods?\n",
        "\n",
        "Answer 8. GET: Used to fetch data, parameters sent in the URL, not secure for sensitive info.\n",
        "\n",
        "POST: Used to send data (form data, JSON) in the request body, more secure.\n",
        "\n",
        "Question 9. How do you handle errors in Flask APIs?\n",
        "\n",
        "Answer 9. Errors in Flask APIs can be handled using @app.errorhandler() decorators and returning custom error messages with proper HTTP status codes.\n",
        "Example:\n",
        "@app.errorhandler(404)\n",
        "def not_found(e):\n",
        "    return {\"error\": \"Not Found\"}, 404\n",
        "\n",
        "Question 10. How do you connect Flask to a SQL database?\n",
        "\n",
        "Answer 10. Flask can connect to SQL databases using Flask-SQLAlchemy (ORM).\n",
        "Example:\n",
        "app.config['SQLALCHEMY_DATABASE_URI'] = 'sqlite:///test.db'\n",
        "db = SQLAlchemy(app)\n",
        "\n",
        "Question 11. What is the role of Flask-SQLAlchemy?\n",
        "\n",
        "Answer 11. Flask-SQLAlchemy is an extension that integrates SQLAlchemy ORM with Flask. It simplifies database management by providing object-oriented table definitions, easy queries, and automatic handling of database connections.\n",
        "\n",
        "Question 12. What are Flask blueprints, and how are they useful?\n",
        "\n",
        "Answer 12. Blueprints in Flask allow applications to be divided into smaller components. They help organize routes, views, and static files, make applications modular and scalable, and enable reuse of components.\n",
        "\n",
        "Question 13. What is the purpose of Flask's request object?\n",
        "\n",
        "Answer 13. The request object in Flask provides access to incoming HTTP request data, including form data, query parameters, JSON payloads, headers, and cookies.\n",
        "\n",
        "Question 14. How do you create a RESTful API endpoint using Flask?\n",
        "\n",
        "Answer 14. from flask import Flask, jsonify\n",
        "app = Flask(__name__)\n",
        "\n",
        "@app.route(\"/api/data\", methods=[\"GET\"])\n",
        "def get_data():\n",
        "    return jsonify({\"message\": \"Hello, API!\"})\n",
        "\n",
        "Question 15. What is the purpose of Flask's jsonify() function?\n",
        "\n",
        "Answer 15. jsonify() is used to convert Python dictionaries/lists into JSON responses with the correct MIME type (application/json).\n",
        "\n",
        "Question 16. Explain Flask’s url_for() function.\n",
        "\n",
        "Answer 16. The url_for() function generates URLs dynamically for routes defined in Flask. It avoids hardcoding URLs and makes apps easier to maintain.\n",
        "\n",
        "Question 17. How does Flask handle static files (CSS, JavaScript, etc.)?\n",
        "\n",
        "Answer 17. Flask serves static files from the static/ directory by default. They can be accessed using /static/filename.\n",
        "\n",
        "Question 18. What is an API specification, and how does it help in building a Flask API?\n",
        "\n",
        "Answer 18. An API specification describes how the API works, including endpoints, request/response formats, status codes, and authentication. It helps ensure consistency and acts as a contract between developers.\n",
        "\n",
        "Question 19. What are HTTP status codes, and why are they important in a Flask API?\n",
        "\n",
        "Answer 19. HTTP status codes indicate the result of a request: 200 OK – Success, 201 Created – Resource created, 400 Bad Request – Invalid input, 404 Not Found – Resource not found, 500 Internal Server Error – Server crash. They are important for communicating request outcomes.\n",
        "\n",
        "Question 20. How do you handle POST requests in Flask?\n",
        "\n",
        "Answer 20. from flask import request\n",
        "@app.route(\"/submit\", methods=[\"POST\"])\n",
        "def submit():\n",
        "    data = request.json\n",
        "    return {\"received\": data}, 201\n",
        "\n",
        "Question 21. How would you secure a Flask API?\n",
        "\n",
        "Answer 21. Use authentication & authorization (JWT, OAuth), enable HTTPS, validate and sanitize inputs, use rate limiting and API keys, and handle errors properly.\n",
        "\n",
        "Question 22. What is the significance of the Flask-RESTful extension?\n",
        "\n",
        "Answer 22. Flask-RESTful simplifies building REST APIs by providing resource-based routing, automatic request parsing, standardized error handling, and cleaner API development.\n",
        "\n",
        "Question 23. What is the role of Flask’s session object?\n",
        "\n",
        "Answer 23. The session object stores user-specific data across requests. It uses cookies and a secret key for security. Example use: login sessions, shopping cart info.\n"
      ],
      "metadata": {
        "id": "O3ziBl-XBL9i"
      }
    },
    {
      "cell_type": "code",
      "source": [
        "#Question 1. How do you create a basic Flask application\n",
        "\n",
        "from flask import Flask\n",
        "app = Flask(__name__)\n",
        "\n",
        "@app.route(\"/\")\n",
        "def home():\n",
        "    return \"Hello, Flask!\"\n",
        "\n",
        "if __name__ == \"__main__\":\n",
        "    app.run(debug=True)"
      ],
      "metadata": {
        "colab": {
          "base_uri": "https://localhost:8080/"
        },
        "id": "3PK97TKICE9k",
        "outputId": "59953684-0eb5-48c2-a19c-e4d9b3f82a94"
      },
      "execution_count": 4,
      "outputs": [
        {
          "output_type": "stream",
          "name": "stdout",
          "text": [
            " * Serving Flask app '__main__'\n",
            " * Debug mode: on\n"
          ]
        },
        {
          "output_type": "stream",
          "name": "stderr",
          "text": [
            "INFO:werkzeug:\u001b[31m\u001b[1mWARNING: This is a development server. Do not use it in a production deployment. Use a production WSGI server instead.\u001b[0m\n",
            " * Running on http://127.0.0.1:5000\n",
            "INFO:werkzeug:\u001b[33mPress CTRL+C to quit\u001b[0m\n",
            "INFO:werkzeug: * Restarting with stat\n"
          ]
        }
      ]
    },
    {
      "cell_type": "code",
      "source": [
        "#Question 2. How do you serve static files like images or CSS in Flask\n",
        "\n",
        "Place files in a folder named static/.\n",
        "\n",
        "Access them with URL /static/filename.\n",
        "Example:\n",
        "\n",
        "<link rel=\"stylesheet\" href=\"{{ url_for('static', filename='style.css') }}\">\n"
      ],
      "metadata": {
        "colab": {
          "base_uri": "https://localhost:8080/",
          "height": 106
        },
        "id": "y5ax9P1qCI1U",
        "outputId": "750ae5be-f3c0-48c8-c364-82360a8ef002"
      },
      "execution_count": 5,
      "outputs": [
        {
          "output_type": "error",
          "ename": "SyntaxError",
          "evalue": "invalid syntax (ipython-input-1601883546.py, line 3)",
          "traceback": [
            "\u001b[0;36m  File \u001b[0;32m\"/tmp/ipython-input-1601883546.py\"\u001b[0;36m, line \u001b[0;32m3\u001b[0m\n\u001b[0;31m    Place files in a folder named static/.\u001b[0m\n\u001b[0m          ^\u001b[0m\n\u001b[0;31mSyntaxError\u001b[0m\u001b[0;31m:\u001b[0m invalid syntax\n"
          ]
        }
      ]
    },
    {
      "cell_type": "code",
      "source": [
        "#Question 3. How do you define different routes with different HTTP methods in Flask\n",
        "\n",
        "from flask import Flask, request\n",
        "app = Flask(__name__)\n",
        "\n",
        "@app.route(\"/user\", methods=[\"GET\", \"POST\"])\n",
        "def user():\n",
        "    if request.method == \"GET\":\n",
        "        return \"GET request received\"\n",
        "    elif request.method == \"POST\":\n",
        "        return \"POST request received\""
      ],
      "metadata": {
        "id": "a568ozu9CGfD"
      },
      "execution_count": 6,
      "outputs": []
    },
    {
      "cell_type": "code",
      "source": [
        "#Question 4. How do you render HTML templates in Flask\n",
        "\n",
        "Place HTML files in a templates/ folder.\n",
        "\n",
        "Use render_template().\n",
        "\n",
        "from flask import render_template\n",
        "\n",
        "@app.route(\"/about\")\n",
        "def about():\n",
        "    return render_template(\"about.html\")"
      ],
      "metadata": {
        "colab": {
          "base_uri": "https://localhost:8080/",
          "height": 106
        },
        "id": "8264I-iGCGZg",
        "outputId": "9da219e2-8f30-4d3d-b1d7-55c2cf84c86c"
      },
      "execution_count": 7,
      "outputs": [
        {
          "output_type": "error",
          "ename": "SyntaxError",
          "evalue": "invalid syntax (ipython-input-1174764728.py, line 3)",
          "traceback": [
            "\u001b[0;36m  File \u001b[0;32m\"/tmp/ipython-input-1174764728.py\"\u001b[0;36m, line \u001b[0;32m3\u001b[0m\n\u001b[0;31m    Place HTML files in a templates/ folder.\u001b[0m\n\u001b[0m          ^\u001b[0m\n\u001b[0;31mSyntaxError\u001b[0m\u001b[0;31m:\u001b[0m invalid syntax\n"
          ]
        }
      ]
    },
    {
      "cell_type": "code",
      "source": [
        "#Question 5. How can you generate URLs for routes in Flask using url_for\n",
        "\n",
        "from flask import url_for\n",
        "\n",
        "@app.route(\"/profile/<username>\")\n",
        "def profile(username):\n",
        "    return f\"Profile: {username}\"\n",
        "\n",
        "@app.route(\"/link\")\n",
        "def link():\n",
        "    return url_for(\"profile\", username=\"John\")"
      ],
      "metadata": {
        "id": "k0hee5KeFmdw"
      },
      "execution_count": 8,
      "outputs": []
    },
    {
      "cell_type": "code",
      "source": [
        "#Question 6. How do you handle forms in Flask\n",
        "\n",
        "from flask import request\n",
        "\n",
        "@app.route(\"/submit\", methods=[\"POST\"])\n",
        "def submit():\n",
        "    name = request.form[\"name\"]\n",
        "    return f\"Hello {name}\""
      ],
      "metadata": {
        "id": "g_tOClXMCGS9"
      },
      "execution_count": 9,
      "outputs": []
    },
    {
      "cell_type": "code",
      "source": [
        "#Question 7. How can you validate form data in Flask\n",
        "\n",
        "@app.route(\"/register\", methods=[\"POST\"])\n",
        "def register():\n",
        "    username = request.form.get(\"username\")\n",
        "    if not username:\n",
        "        return \"Username required\", 400\n",
        "    return f\"Welcome {username}\"\n"
      ],
      "metadata": {
        "id": "UlhsNnthCGNM"
      },
      "execution_count": 10,
      "outputs": []
    },
    {
      "cell_type": "code",
      "source": [
        "#Question 8. How do you manage sessions in Flask\n",
        "\n",
        "from flask import session\n",
        "\n",
        "app.secret_key = \"mysecret\"\n",
        "\n",
        "@app.route(\"/login\")\n",
        "def login():\n",
        "    session[\"user\"] = \"John\"\n",
        "    return \"Logged in\"\n",
        "\n",
        "@app.route(\"/logout\")\n",
        "def logout():\n",
        "    session.pop(\"user\", None)\n",
        "    return \"Logged out\""
      ],
      "metadata": {
        "id": "lHSmyZi7CGHB"
      },
      "execution_count": 11,
      "outputs": []
    },
    {
      "cell_type": "code",
      "source": [
        "#Question 9. How do you redirect to a different route in Flask\n",
        "\n",
        "from flask import redirect, url_for\n",
        "\n",
        "@app.route(\"/old\")\n",
        "def old():\n",
        "    return redirect(url_for(\"new\"))\n",
        "\n",
        "@app.route(\"/new\")\n",
        "def new():\n",
        "    return \"This is new page\""
      ],
      "metadata": {
        "id": "NqOo12dNCGA_"
      },
      "execution_count": 12,
      "outputs": []
    },
    {
      "cell_type": "code",
      "source": [
        "#Question 10. How do you handle errors in Flask (e.g., 404)\n",
        "\n",
        "@app.errorhandler(404)\n",
        "def page_not_found(e):\n",
        "    return \"Page not found\", 404"
      ],
      "metadata": {
        "id": "YZaLfPcVCF6C"
      },
      "execution_count": 13,
      "outputs": []
    },
    {
      "cell_type": "code",
      "source": [
        "#Question 11. How do you structure a Flask app using Blueprints\n",
        "\n",
        "from flask import Blueprint\n",
        "\n",
        "user_bp = Blueprint(\"user\", __name__)\n",
        "\n",
        "@user_bp.route(\"/profile\")\n",
        "def profile():\n",
        "    return \"User Profile\"\n",
        "\n",
        "app.register_blueprint(user_bp, url_prefix=\"/user\")"
      ],
      "metadata": {
        "id": "CbxW5aaxCFy7"
      },
      "execution_count": 14,
      "outputs": []
    },
    {
      "cell_type": "code",
      "source": [
        "#Question 12. How do you define a custom Jinja filter in Flask\n",
        "\n",
        "@app.template_filter(\"reverse\")\n",
        "def reverse_filter(s):\n",
        "    return s[::-1]\n",
        "\n",
        "# In template: {{ \"hello\" | reverse }}"
      ],
      "metadata": {
        "id": "Ajid0UX2CFrW"
      },
      "execution_count": 15,
      "outputs": []
    },
    {
      "cell_type": "code",
      "source": [
        "#Question 13. How can you redirect with query parameters in Flask\n",
        "\n",
        "@app.route(\"/search\")\n",
        "def search():\n",
        "    query = request.args.get(\"q\")\n",
        "    return f\"Searching for {query}\"\n",
        "\n",
        "@app.route(\"/go\")\n",
        "def go():\n",
        "    return redirect(url_for(\"search\", q=\"flask\"))"
      ],
      "metadata": {
        "id": "amrL4BloCFjm"
      },
      "execution_count": 16,
      "outputs": []
    },
    {
      "cell_type": "code",
      "source": [
        "#Question 14. How do you return JSON responses in Flask\n",
        "\n",
        "from flask import jsonify\n",
        "\n",
        "@app.route(\"/api/data\")\n",
        "def data():\n",
        "    return jsonify({\"name\": \"John\", \"age\": 30})"
      ],
      "metadata": {
        "id": "qtKuiZxaCFZV"
      },
      "execution_count": 17,
      "outputs": []
    },
    {
      "cell_type": "code",
      "source": [
        "#Question 15. How do you capture URL parameters in Flask?\n",
        "\n",
        "@app.route(\"/user/<int:id>\")\n",
        "def user(id):\n",
        "    return f\"User ID: {id}\""
      ],
      "metadata": {
        "colab": {
          "base_uri": "https://localhost:8080/",
          "height": 356
        },
        "id": "agFMI27kCFSm",
        "outputId": "a68ae598-5f2e-4617-f1ec-d1bdbf29389f"
      },
      "execution_count": 18,
      "outputs": [
        {
          "output_type": "error",
          "ename": "AssertionError",
          "evalue": "View function mapping is overwriting an existing endpoint function: user",
          "traceback": [
            "\u001b[0;31m---------------------------------------------------------------------------\u001b[0m",
            "\u001b[0;31mAssertionError\u001b[0m                            Traceback (most recent call last)",
            "\u001b[0;32m/tmp/ipython-input-569917521.py\u001b[0m in \u001b[0;36m<cell line: 0>\u001b[0;34m()\u001b[0m\n\u001b[1;32m      1\u001b[0m \u001b[0;31m#Question 15. How do you capture URL parameters in Flask?\u001b[0m\u001b[0;34m\u001b[0m\u001b[0;34m\u001b[0m\u001b[0m\n\u001b[1;32m      2\u001b[0m \u001b[0;34m\u001b[0m\u001b[0m\n\u001b[0;32m----> 3\u001b[0;31m \u001b[0;34m@\u001b[0m\u001b[0mapp\u001b[0m\u001b[0;34m.\u001b[0m\u001b[0mroute\u001b[0m\u001b[0;34m(\u001b[0m\u001b[0;34m\"/user/<int:id>\"\u001b[0m\u001b[0;34m)\u001b[0m\u001b[0;34m\u001b[0m\u001b[0;34m\u001b[0m\u001b[0m\n\u001b[0m\u001b[1;32m      4\u001b[0m \u001b[0;32mdef\u001b[0m \u001b[0muser\u001b[0m\u001b[0;34m(\u001b[0m\u001b[0mid\u001b[0m\u001b[0;34m)\u001b[0m\u001b[0;34m:\u001b[0m\u001b[0;34m\u001b[0m\u001b[0;34m\u001b[0m\u001b[0m\n\u001b[1;32m      5\u001b[0m     \u001b[0;32mreturn\u001b[0m \u001b[0;34mf\"User ID: {id}\"\u001b[0m\u001b[0;34m\u001b[0m\u001b[0;34m\u001b[0m\u001b[0m\n",
            "\u001b[0;32m/usr/local/lib/python3.11/dist-packages/flask/sansio/scaffold.py\u001b[0m in \u001b[0;36mdecorator\u001b[0;34m(f)\u001b[0m\n\u001b[1;32m    360\u001b[0m         \u001b[0;32mdef\u001b[0m \u001b[0mdecorator\u001b[0m\u001b[0;34m(\u001b[0m\u001b[0mf\u001b[0m\u001b[0;34m:\u001b[0m \u001b[0mT_route\u001b[0m\u001b[0;34m)\u001b[0m \u001b[0;34m->\u001b[0m \u001b[0mT_route\u001b[0m\u001b[0;34m:\u001b[0m\u001b[0;34m\u001b[0m\u001b[0;34m\u001b[0m\u001b[0m\n\u001b[1;32m    361\u001b[0m             \u001b[0mendpoint\u001b[0m \u001b[0;34m=\u001b[0m \u001b[0moptions\u001b[0m\u001b[0;34m.\u001b[0m\u001b[0mpop\u001b[0m\u001b[0;34m(\u001b[0m\u001b[0;34m\"endpoint\"\u001b[0m\u001b[0;34m,\u001b[0m \u001b[0;32mNone\u001b[0m\u001b[0;34m)\u001b[0m\u001b[0;34m\u001b[0m\u001b[0;34m\u001b[0m\u001b[0m\n\u001b[0;32m--> 362\u001b[0;31m             \u001b[0mself\u001b[0m\u001b[0;34m.\u001b[0m\u001b[0madd_url_rule\u001b[0m\u001b[0;34m(\u001b[0m\u001b[0mrule\u001b[0m\u001b[0;34m,\u001b[0m \u001b[0mendpoint\u001b[0m\u001b[0;34m,\u001b[0m \u001b[0mf\u001b[0m\u001b[0;34m,\u001b[0m \u001b[0;34m**\u001b[0m\u001b[0moptions\u001b[0m\u001b[0;34m)\u001b[0m\u001b[0;34m\u001b[0m\u001b[0;34m\u001b[0m\u001b[0m\n\u001b[0m\u001b[1;32m    363\u001b[0m             \u001b[0;32mreturn\u001b[0m \u001b[0mf\u001b[0m\u001b[0;34m\u001b[0m\u001b[0;34m\u001b[0m\u001b[0m\n\u001b[1;32m    364\u001b[0m \u001b[0;34m\u001b[0m\u001b[0m\n",
            "\u001b[0;32m/usr/local/lib/python3.11/dist-packages/flask/sansio/scaffold.py\u001b[0m in \u001b[0;36mwrapper_func\u001b[0;34m(self, *args, **kwargs)\u001b[0m\n\u001b[1;32m     45\u001b[0m     \u001b[0;32mdef\u001b[0m \u001b[0mwrapper_func\u001b[0m\u001b[0;34m(\u001b[0m\u001b[0mself\u001b[0m\u001b[0;34m:\u001b[0m \u001b[0mScaffold\u001b[0m\u001b[0;34m,\u001b[0m \u001b[0;34m*\u001b[0m\u001b[0margs\u001b[0m\u001b[0;34m:\u001b[0m \u001b[0mt\u001b[0m\u001b[0;34m.\u001b[0m\u001b[0mAny\u001b[0m\u001b[0;34m,\u001b[0m \u001b[0;34m**\u001b[0m\u001b[0mkwargs\u001b[0m\u001b[0;34m:\u001b[0m \u001b[0mt\u001b[0m\u001b[0;34m.\u001b[0m\u001b[0mAny\u001b[0m\u001b[0;34m)\u001b[0m \u001b[0;34m->\u001b[0m \u001b[0mt\u001b[0m\u001b[0;34m.\u001b[0m\u001b[0mAny\u001b[0m\u001b[0;34m:\u001b[0m\u001b[0;34m\u001b[0m\u001b[0;34m\u001b[0m\u001b[0m\n\u001b[1;32m     46\u001b[0m         \u001b[0mself\u001b[0m\u001b[0;34m.\u001b[0m\u001b[0m_check_setup_finished\u001b[0m\u001b[0;34m(\u001b[0m\u001b[0mf_name\u001b[0m\u001b[0;34m)\u001b[0m\u001b[0;34m\u001b[0m\u001b[0;34m\u001b[0m\u001b[0m\n\u001b[0;32m---> 47\u001b[0;31m         \u001b[0;32mreturn\u001b[0m \u001b[0mf\u001b[0m\u001b[0;34m(\u001b[0m\u001b[0mself\u001b[0m\u001b[0;34m,\u001b[0m \u001b[0;34m*\u001b[0m\u001b[0margs\u001b[0m\u001b[0;34m,\u001b[0m \u001b[0;34m**\u001b[0m\u001b[0mkwargs\u001b[0m\u001b[0;34m)\u001b[0m\u001b[0;34m\u001b[0m\u001b[0;34m\u001b[0m\u001b[0m\n\u001b[0m\u001b[1;32m     48\u001b[0m \u001b[0;34m\u001b[0m\u001b[0m\n\u001b[1;32m     49\u001b[0m     \u001b[0;32mreturn\u001b[0m \u001b[0mt\u001b[0m\u001b[0;34m.\u001b[0m\u001b[0mcast\u001b[0m\u001b[0;34m(\u001b[0m\u001b[0mF\u001b[0m\u001b[0;34m,\u001b[0m \u001b[0mupdate_wrapper\u001b[0m\u001b[0;34m(\u001b[0m\u001b[0mwrapper_func\u001b[0m\u001b[0;34m,\u001b[0m \u001b[0mf\u001b[0m\u001b[0;34m)\u001b[0m\u001b[0;34m)\u001b[0m\u001b[0;34m\u001b[0m\u001b[0;34m\u001b[0m\u001b[0m\n",
            "\u001b[0;32m/usr/local/lib/python3.11/dist-packages/flask/sansio/app.py\u001b[0m in \u001b[0;36madd_url_rule\u001b[0;34m(self, rule, endpoint, view_func, provide_automatic_options, **options)\u001b[0m\n\u001b[1;32m    655\u001b[0m             \u001b[0mold_func\u001b[0m \u001b[0;34m=\u001b[0m \u001b[0mself\u001b[0m\u001b[0;34m.\u001b[0m\u001b[0mview_functions\u001b[0m\u001b[0;34m.\u001b[0m\u001b[0mget\u001b[0m\u001b[0;34m(\u001b[0m\u001b[0mendpoint\u001b[0m\u001b[0;34m)\u001b[0m\u001b[0;34m\u001b[0m\u001b[0;34m\u001b[0m\u001b[0m\n\u001b[1;32m    656\u001b[0m             \u001b[0;32mif\u001b[0m \u001b[0mold_func\u001b[0m \u001b[0;32mis\u001b[0m \u001b[0;32mnot\u001b[0m \u001b[0;32mNone\u001b[0m \u001b[0;32mand\u001b[0m \u001b[0mold_func\u001b[0m \u001b[0;34m!=\u001b[0m \u001b[0mview_func\u001b[0m\u001b[0;34m:\u001b[0m\u001b[0;34m\u001b[0m\u001b[0;34m\u001b[0m\u001b[0m\n\u001b[0;32m--> 657\u001b[0;31m                 raise AssertionError(\n\u001b[0m\u001b[1;32m    658\u001b[0m                     \u001b[0;34m\"View function mapping is overwriting an existing\"\u001b[0m\u001b[0;34m\u001b[0m\u001b[0;34m\u001b[0m\u001b[0m\n\u001b[1;32m    659\u001b[0m                     \u001b[0;34mf\" endpoint function: {endpoint}\"\u001b[0m\u001b[0;34m\u001b[0m\u001b[0;34m\u001b[0m\u001b[0m\n",
            "\u001b[0;31mAssertionError\u001b[0m: View function mapping is overwriting an existing endpoint function: user"
          ]
        }
      ]
    }
  ]
}