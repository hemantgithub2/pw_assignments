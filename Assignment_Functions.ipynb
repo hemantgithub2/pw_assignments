{
  "nbformat": 4,
  "nbformat_minor": 0,
  "metadata": {
    "colab": {
      "provenance": []
    },
    "kernelspec": {
      "name": "python3",
      "display_name": "Python 3"
    },
    "language_info": {
      "name": "python"
    }
  },
  "cells": [
    {
      "cell_type": "markdown",
      "source": [
        "1. What is the difference between a function and a method in Python?\n",
        "- A function is a standalone block of code designed to perform a specific task.\n",
        "- A method is a function associated with an object; it acts on that object’s data.\n",
        "\n",
        "Example:\n",
        "\n",
        "def greet ():  # Function\n",
        "    return 'Hello'\n",
        "\n",
        "message = 'hello'\n",
        "message.upper()  # Method\n",
        "2. Explain the concept of function arguments and parameters in Python.\n",
        "- Parameters are the variables listed in the function definition.\n",
        "- Arguments are the actual values passed to the function when it is called.\n",
        "\n",
        "Example:\n",
        "\n",
        "def add(a, b):  # Parameters\n",
        "    return a + b\n",
        "\n",
        "result = add(3, 4)  # Arguments\n",
        "3. What are the different ways to define and call a function in Python?\n",
        "- Define a function using 'def' or 'lambda'.\n",
        "- Call the function using its name followed by parentheses.\n",
        "\n",
        "Example:\n",
        "\n",
        "def greet(name):\n",
        "    return 'Hello ' + name\n",
        "print(greet('Alice'))\n",
        "\n",
        "square = lambda x: x * x\n",
        "print(square(5))\n",
        "4. What is the purpose of the `return` statement in a Python function?\n",
        "- It sends a value back to the caller and ends the function.\n",
        "- Without return, the function returns None.\n",
        "\n",
        "Example:\n",
        "\n",
        "def multiply(a, b):\n",
        "    return a * b\n",
        "\n",
        "print(multiply(2, 3))  # Output: 6\n",
        "5. What are iterators in Python and how do they differ from iterables?\n",
        "- An iterable is an object like a list or tuple that can be looped over.\n",
        "- An iterator is an object with a __next__() method that returns items one at a time.\n",
        "\n",
        "Example:\n",
        "\n",
        "lst = [1, 2, 3]     # Iterable\n",
        "it = iter(lst)      # Iterator\n",
        "print(next(it))     # Output: 1\n",
        "6. Explain the concept of generators in Python and how they are defined.\n",
        "- Generators are special iterators defined using the yield keyword.\n",
        "- They pause execution at yield and resume from the same point.\n",
        "\n",
        "Example:\n",
        "\n",
        "def gen_numbers():\n",
        "\n",
        "    yield 1\n",
        "\n",
        "    yield 2\n",
        "    \n",
        "    yield 3\n",
        "\n",
        "\n",
        "for num in gen_numbers():\n",
        "    \n",
        "    print(num)\n",
        "7. What are the advantages of using generators over regular functions?\n",
        "- Memory-efficient: They yield one item at a time instead of returning the whole list.\n",
        "- Useful for handling large data or infinite sequences.\n",
        "\n",
        "Example:\n",
        "\n",
        "def count_up_to(n):\n",
        "    i = 1\n",
        "    while i <= n:\n",
        "        yield i\n",
        "        i += 1\n",
        "8. What is a lambda function in Python and when is it typically used?\n",
        "- A lambda function is a small anonymous function defined using the lambda keyword.\n",
        "- Used when a function is short-lived and used only once or inline.\n",
        "\n",
        "Example:\n",
        "\n",
        "double = lambda x: x * 2\n",
        "print(double(5))  # Output: 10\n",
        "\n",
        "9. Explain the purpose and usage of the `map()` function in Python.\n",
        "- map() applies a function to each item in an iterable.\n",
        "- Returns a map object which can be converted into a list.\n",
        "\n",
        "Example:\n",
        "\n",
        "nums = [1, 2, 3]\n",
        "\n",
        "squares = list(map(lambda x: x * x, nums))\n",
        "\n",
        "print(squares)  # Output: [1, 4, 9]\n",
        "\n",
        "10. What is the difference between `map()`, `reduce()`, and `filter()` functions in Python?\n",
        "Function   \tPurpose      \tReturns\n",
        "map()     \tApplies a function to each element   \tMap object/list\n",
        "filter()  \tFilters elements by a condition  \tFilter object/list\n",
        "reduce()  \tReduces to a single value            \tSingle result\n",
        "\n",
        "Example:\n",
        "from functools import reduce\n",
        "\n",
        "nums = [1, 2, 3, 4]\n",
        "print(list(map(lambda x: x * 2, nums)))          # [2, 4, 6, 8]\n",
        "print(list(filter(lambda x: x % 2 == 0, nums)))  # [2, 4]\n",
        "print(reduce(lambda x, y: x + y, nums))          # 10\n",
        "\n",
        "11. Using pen & paper write the internal mechanism for sum operation using reduce function on list: [47, 11, 42, 13]\n",
        "Write the following by hand and attach a photo in your document or colab:\n",
        "\n",
        "List: [47, 11, 42, 13]\n",
        "\n",
        "Step-by-step reduce using sum:\n",
        "Step 1: 47 + 11 = 58\n",
        "Step 2: 58 + 42 = 100\n",
        "Step 3: 100 + 13 = 113\n",
        "\n",
        "Final Result = 113\n"
      ],
      "metadata": {
        "id": "0ixnC6VeKw4Y"
      }
    },
    {
      "cell_type": "code",
      "source": [
        "#Sum of even numbers\n",
        "\n",
        "def sum_even(numbers):\n",
        "    return sum(n for n in numbers if n % 2 == 0)"
      ],
      "metadata": {
        "id": "4w0uzA2aQriA"
      },
      "execution_count": 2,
      "outputs": []
    },
    {
      "cell_type": "code",
      "source": [
        "# Reverse a string\n",
        "\n",
        "\n",
        "def reverse_string(s):\n",
        "    return s[::-1]"
      ],
      "metadata": {
        "id": "XM_WXk_vW3qD"
      },
      "execution_count": 4,
      "outputs": []
    },
    {
      "cell_type": "code",
      "source": [
        "#Squares of each number\n",
        "\n",
        "\n",
        "def square_list(lst):\n",
        "    return [x**2 for x in lst]"
      ],
      "metadata": {
        "id": "5vsNNJH_XA87"
      },
      "execution_count": 5,
      "outputs": []
    },
    {
      "cell_type": "code",
      "source": [
        "#Check prime from 1 to 200\n",
        "\n",
        "def is_prime(n):\n",
        "    if n < 2:\n",
        "        return False\n",
        "    for i in range(2, int(n**0.5) + 1):\n",
        "        if n % i == 0:\n",
        "            return False\n",
        "    return True\n",
        "\n",
        "primes = [x for x in range(1, 201) if is_prime(x)]\n",
        "print(primes)"
      ],
      "metadata": {
        "colab": {
          "base_uri": "https://localhost:8080/"
        },
        "id": "nYGNIOuFXGQk",
        "outputId": "2a80da0a-4414-4fc5-8d09-3ba5f77edcf9"
      },
      "execution_count": 6,
      "outputs": [
        {
          "output_type": "stream",
          "name": "stdout",
          "text": [
            "[2, 3, 5, 7, 11, 13, 17, 19, 23, 29, 31, 37, 41, 43, 47, 53, 59, 61, 67, 71, 73, 79, 83, 89, 97, 101, 103, 107, 109, 113, 127, 131, 137, 139, 149, 151, 157, 163, 167, 173, 179, 181, 191, 193, 197, 199]\n"
          ]
        }
      ]
    },
    {
      "cell_type": "code",
      "source": [
        "#Fibonacci iterator class\n",
        "\n",
        "class Fibonacci:\n",
        "    def __init__(self, max_terms):\n",
        "        self.max_terms = max_terms\n",
        "        self.a, self.b = 0, 1\n",
        "        self.count = 0\n",
        "\n",
        "    def __iter__(self):\n",
        "        return self\n",
        "\n",
        "    def __next__(self):\n",
        "        if self.count >= self.max_terms:\n",
        "            raise StopIteration\n",
        "        self.a, self.b = self.b, self.a + self.b\n",
        "        self.count += 1\n",
        "        return self.a"
      ],
      "metadata": {
        "id": "fuh-yX1iXMAG"
      },
      "execution_count": 8,
      "outputs": []
    },
    {
      "cell_type": "code",
      "source": [
        "#Powers of 2 generator\n",
        "\n",
        "def powers_of_two(n):\n",
        "    for i in range(n + 1):\n",
        "        yield 2 ** i"
      ],
      "metadata": {
        "id": "W4YPJZ8zXRzF"
      },
      "execution_count": 9,
      "outputs": []
    },
    {
      "cell_type": "code",
      "source": [
        "#File line generator\n",
        "\n",
        "def read_lines(filename):\n",
        "    with open(filename, 'r') as f:\n",
        "        for line in f:\n",
        "            yield line.strip()\n"
      ],
      "metadata": {
        "id": "x_Y3yh9JXWqY"
      },
      "execution_count": 10,
      "outputs": []
    },
    {
      "cell_type": "code",
      "source": [
        "#Sort tuples by second element using lambda\n",
        "\n",
        "data = [(1, 3), (2, 1), (4, 2)]\n",
        "sorted_data = sorted(data, key=lambda x: x[1])\n",
        "print(sorted_data)\n"
      ],
      "metadata": {
        "colab": {
          "base_uri": "https://localhost:8080/"
        },
        "id": "YoybwV2KXaOg",
        "outputId": "1df0201d-1d20-4470-da87-e4599e8ce622"
      },
      "execution_count": 11,
      "outputs": [
        {
          "output_type": "stream",
          "name": "stdout",
          "text": [
            "[(2, 1), (4, 2), (1, 3)]\n"
          ]
        }
      ]
    },
    {
      "cell_type": "code",
      "source": [
        "#Remove vowels using filter\n",
        "\n",
        "def remove_vowels(s):\n",
        "    return ''.join(filter(lambda x: x.lower() not in 'aeiou', s))\n",
        "\n",
        "print(remove_vowels(\"Beautiful Day\"))\n"
      ],
      "metadata": {
        "colab": {
          "base_uri": "https://localhost:8080/"
        },
        "id": "EF7kXNQxXel8",
        "outputId": "8000e858-d7d2-4452-e38d-984afbfc523a"
      },
      "execution_count": 12,
      "outputs": [
        {
          "output_type": "stream",
          "name": "stdout",
          "text": [
            "Btfl Dy\n"
          ]
        }
      ]
    },
    {
      "cell_type": "code",
      "source": [
        "#Bookshop accounting routine using lambda + map\n",
        "\n",
        "orders = [\n",
        "    [\"34587\", \"Learning Python\", 4, 40.95],\n",
        "    [\"98762\", \"Programming Python\", 5, 56.80],\n",
        "    [\"77226\", \"Head First Python\", 3, 32.95],\n",
        "    [\"88112\", \"Einführung in Python3\", 3, 24.99]\n",
        "]\n",
        "\n",
        "final_orders = list(map(lambda order:\n",
        "    (order[0], order[2] * order[3] + 10 if order[2] * order[3] < 100 else order[2] * order[3]),\n",
        "    orders))\n",
        "\n",
        "print(final_orders)\n"
      ],
      "metadata": {
        "colab": {
          "base_uri": "https://localhost:8080/"
        },
        "id": "A0cdYJc_Xlez",
        "outputId": "1df353f3-1279-455a-d774-db6200246da7"
      },
      "execution_count": 13,
      "outputs": [
        {
          "output_type": "stream",
          "name": "stdout",
          "text": [
            "[('34587', 163.8), ('98762', 284.0), ('77226', 108.85000000000001), ('88112', 84.97)]\n"
          ]
        }
      ]
    },
    {
      "cell_type": "code",
      "source": [],
      "metadata": {
        "id": "ZG-vzCyvXq3W"
      },
      "execution_count": null,
      "outputs": []
    }
  ]
}