{
  "nbformat": 4,
  "nbformat_minor": 0,
  "metadata": {
    "colab": {
      "provenance": []
    },
    "kernelspec": {
      "name": "python3",
      "display_name": "Python 3"
    },
    "language_info": {
      "name": "python"
    }
  },
  "cells": [
    {
      "cell_type": "code",
      "execution_count": null,
      "metadata": {
        "id": "Up_i6JXXuDC9"
      },
      "outputs": [],
      "source": []
    },
    {
      "cell_type": "markdown",
      "source": [
        "**Question - 1**. What is Object-Oriented Programming (OOP)?\n",
        "\n",
        "OOP is a programming paradigm that organizes code using \"objects\", which are instances of classes. It focuses on four principles: encapsulation, inheritance, polymorphism, and abstraction, promoting modularity, reusability, and scalability.\n",
        "\n",
        "**Question - 2**. What is a class in OOP?\n",
        "\n",
        "A class is a blueprint for creating objects. It defines attributes (variables) and methods (functions) that its instances will have.\n",
        "\n",
        "**Question - 3**. What is an object in OOP?\n",
        "\n",
        "An object is an instance of a class. It contains actual values for the attributes defined by its class and can access its methods.\n",
        "\n",
        "**Question - 4**. What is the difference between abstraction and encapsulation?\n",
        "\n",
        "\n",
        "Abstraction hides complex implementation details and exposes only the necessary parts.\n",
        "\n",
        "Encapsulation wraps data and methods into a single unit and restricts access using access specifiers.\n",
        "\n",
        "Question - 5. What are dunder methods in Python?\n",
        "\n",
        "Dunder methods (double underscore methods) like __init__, __str__, and __len__ are special methods with double underscores. They allow customization of class behavior for built-in operations.\n",
        "\n",
        "Question - 6. Explain the concept of inheritance in OOP.\n",
        "\n",
        "Inheritance lets one class (child) acquire attributes and methods from another (parent), promoting code reuse and establishing relationships between classes.\n",
        "\n",
        "Question - 7. What is polymorphism in OOP?\n",
        "\n",
        "Polymorphism allows the same interface to behave differently depending on the object. In Python, this often means method overriding or using functions that work with different data types.\n",
        "\n",
        "Question - 8. How is encapsulation achieved in Python?\n",
        "\n",
        "Encapsulation is achieved by using private variables (__var) and providing getter/setter methods. This hides internal object state and provides controlled access.\n",
        "\n",
        "Question - 9. What is a constructor in Python?\n",
        "\n",
        "A constructor is a special method __init__() that initializes a newly created object of a class.\n",
        "\n",
        "Question - 10. What are class and static methods in Python?\n",
        "\n",
        "Class methods (@classmethod) operate on the class and use cls as the first argument.\n",
        "\n",
        "Static methods (@staticmethod) do not take self or cls and behave like regular functions inside classes.\n",
        "\n",
        "Question - 11. What is method overloading in Python?\n",
        "\n",
        "Python does not support traditional method overloading. Instead, default arguments or variable-length arguments (*args) are used to simulate it.\n",
        "\n",
        "Question - 12. What is method overriding in OOP?\n",
        "\n",
        "Method overriding occurs when a child class provides a specific implementation of a method already defined in its parent class.\n",
        "\n",
        "Question - 13. What is a property decorator in Python?\n",
        "\n",
        "@property is used to make a method behave like an attribute. It allows controlled access and modification of private variables.\n",
        "\n",
        "Question - 14. Why is polymorphism important in OOP?\n",
        "\n",
        "It enables flexibility and scalability in code, allowing objects of different classes to be treated uniformly through a common interface.\n",
        "\n",
        "Question - 15. What is an abstract class in Python?\n",
        "\n",
        "An abstract class (via abc module) cannot be instantiated and often contains one or more abstract methods that must be implemented in derived classes.\n",
        "\n",
        "Question - 16. What are the advantages of OOP?\n",
        "\n",
        "\n",
        "Code reusability\n",
        "\n",
        "Modularity\n",
        "\n",
        "Easy maintenance\n",
        "\n",
        "Data hiding\n",
        "\n",
        "Scalability\n",
        "\n",
        "Flexibility through polymorphism and abstraction\n",
        "\n",
        "Question - 17. What is the difference between a class variable and an instance variable?\n",
        "\n",
        "\n",
        "Class variables are shared among all instances.\n",
        "\n",
        "Instance variables are unique to each object.\n",
        "\n",
        "Question - 18. What is multiple inheritance in Python?\n",
        "\n",
        "A class can inherit from multiple base classes. Python uses the Method Resolution Order (MRO) to resolve method conflicts.\n",
        "\n",
        "Question - 19. Explain the purpose of __str__ and __repr__ methods in Python.\n",
        "\n",
        "\n",
        "__str__: Returns a user-friendly string representation of an object.\n",
        "\n",
        "__repr__: Returns a developer-friendly, often unambiguous representation for debugging.\n",
        "\n",
        "Question - 20. What is the significance of the super() function in Python?\n",
        "\n",
        "super() gives access to parent class methods, useful for extending behavior while overriding methods.\n",
        "\n",
        "Question - 21. What is the significance of the __del__ method in Python?\n",
        "\n",
        "__del__() is a destructor that is called when an object is garbage collected. It can be used to release external resources.\n",
        "\n",
        "Question - 22. What is the difference between @staticmethod and @classmethod in Python?\n",
        "\n",
        "\n",
        "@staticmethod: No access to class or instance (like a regular function inside a class).\n",
        "\n",
        "@classmethod: Can access and modify class state using cls.\n",
        "\n",
        "Question - 23. How does polymorphism work in Python with inheritance?\n",
        "\n",
        "Through method overriding. Derived classes redefine methods from base classes. When invoked, the derived class version is executed.\n",
        "\n",
        "Question - 24. What is method chaining in Python OOP?\n",
        "\n",
        "Calling multiple methods on the same object in one statement. Each method must return self to enable chaining.\n",
        "\n",
        "Question - 25. What is the purpose of the __call__ method in Python?\n",
        "\n",
        "It makes an instance callable like a function. Defining __call__() in a class allows using object() syntax to trigger it.\n",
        "\n"
      ],
      "metadata": {
        "id": "VH7cGiHwuYUh"
      }
    },
    {
      "cell_type": "code",
      "source": [
        "#1. Create a parent class Animal with a method speak() that prints a generic message. Create a child class Dog that overrides the speak() method to print \"Bark!\".\n",
        "\n",
        "class Animal:\n",
        "    def speak(self):\n",
        "        print(\"The animal makes a sound\")\n",
        "\n",
        "class Dog(Animal):\n",
        "    def speak(self):\n",
        "        print(\"Bark!\")"
      ],
      "metadata": {
        "id": "AzVkU5Esv42G"
      },
      "execution_count": null,
      "outputs": []
    },
    {
      "cell_type": "code",
      "source": [
        "#2. Write a program to create an abstract class Shape with a method area(). Derive classes Circle and Rectangle from it and implement the area() method in both.\n",
        "\n",
        "from abc import ABC, abstractmethod\n",
        "import math\n",
        "\n",
        "class Shape(ABC):\n",
        "    @abstractmethod\n",
        "    def area(self):\n",
        "        pass\n",
        "\n",
        "class Circle(Shape):\n",
        "    def __init__(self, radius):\n",
        "        self.radius = radius\n",
        "\n",
        "    def area(self):\n",
        "        return math.pi * self.radius**2\n",
        "\n",
        "class Rectangle(Shape):\n",
        "    def __init__(self, length, width):\n",
        "        self.length = length\n",
        "        self.width = width\n",
        "\n",
        "    def area(self):\n",
        "        return self.length * self.width"
      ],
      "metadata": {
        "id": "AIMenuikv-r3"
      },
      "execution_count": null,
      "outputs": []
    },
    {
      "cell_type": "code",
      "source": [
        "#3. Implement a multi-level inheritance scenario where a class Vehicle has an attribute type. Derive a class Car and further derive a class ElectricCar that adds a battery attribute.\n",
        "\n",
        "class Vehicle:\n",
        "    def __init__(self, type):\n",
        "        self.type = type\n",
        "\n",
        "class Car(Vehicle):\n",
        "    def __init__(self, type, brand):\n",
        "        super().__init__(type)\n",
        "        self.brand = brand\n",
        "\n",
        "class ElectricCar(Car):\n",
        "    def __init__(self, type, brand, battery_capacity):\n",
        "        super().__init__(type, brand)\n",
        "        self.battery_capacity = battery_capacity"
      ],
      "metadata": {
        "id": "tN6HpxdHv-pe"
      },
      "execution_count": null,
      "outputs": []
    },
    {
      "cell_type": "code",
      "source": [
        "#4. Demonstrate polymorphism by creating a base class Bird with a method fly(). Create two derived classes Sparrow and Penguin that override the fly() method.\n",
        "\n",
        "class Bird:\n",
        "    def fly(self):\n",
        "        print(\"Bird is flying\")\n",
        "\n",
        "class Sparrow(Bird):\n",
        "    def fly(self):\n",
        "        print(\"Sparrow flies high\")\n",
        "\n",
        "class Penguin(Bird):\n",
        "    def fly(self):\n",
        "        print(\"Penguins can't fly\")"
      ],
      "metadata": {
        "id": "myu-lFgFv-mn"
      },
      "execution_count": 2,
      "outputs": []
    },
    {
      "cell_type": "code",
      "source": [
        "#5. Write a program to demonstrate encapsulation by creating a class BankAccount with private attributes balance and methods to deposit, withdraw, and check balance.\n",
        "\n",
        "class BankAccount:\n",
        "    def __init__(self, balance=0):\n",
        "        self._balance = balance\n",
        "\n",
        "    def deposit(self, amount):\n",
        "        if amount > 0:\n",
        "            self._balance += amount\n",
        "            return True\n",
        "        return False\n",
        "\n",
        "    def withdraw(self, amount):\n",
        "        if amount > 0 and self._balance >= amount:\n",
        "            self._balance -= amount\n",
        "            return True\n",
        "        return False\n",
        "\n",
        "    def check_balance(self):\n",
        "        return self._balance"
      ],
      "metadata": {
        "id": "Bkd4mCHZv-kE"
      },
      "execution_count": 3,
      "outputs": []
    },
    {
      "cell_type": "code",
      "source": [
        "#6. Demonstrate runtime polymorphism using a method play() in a base class Instrument. Derive classes Guitar and Piano that implement their own version of play().\n",
        "\n",
        "class Instrument:\n",
        "    def play(self):\n",
        "        print(\"Playing an instrument\")\n",
        "\n",
        "class Guitar(Instrument):\n",
        "    def play(self):\n",
        "        print(\"Strumming the guitar\")\n",
        "\n",
        "class Piano(Instrument):\n",
        "    def play(self):\n",
        "        print(\"Playing piano keys\")"
      ],
      "metadata": {
        "id": "Qw91U6Sdv-ho"
      },
      "execution_count": 4,
      "outputs": []
    },
    {
      "cell_type": "code",
      "source": [
        "#7. Create a class MathOperations with a class method add_numbers() to add two numbers and a static method subtract_numbers() to subtract two numbers.\n",
        "\n",
        "class MathOperations:\n",
        "    @classmethod\n",
        "    def add_numbers(cls, a, b):\n",
        "        return a + b\n",
        "\n",
        "    @staticmethod\n",
        "    def subtract_numbers(a, b):\n",
        "        return a - b"
      ],
      "metadata": {
        "id": "evh7Md9qv-fD"
      },
      "execution_count": null,
      "outputs": []
    },
    {
      "cell_type": "code",
      "source": [
        "#8. Implement a class Person with a class method to count the total number of persons created.\n",
        "\n",
        "class Person:\n",
        "    _count = 0\n",
        "\n",
        "    def __init__(self):\n",
        "        Person._count += 1\n",
        "\n",
        "    @classmethod\n",
        "    def get_person_count(cls):\n",
        "        return cls._count"
      ],
      "metadata": {
        "id": "FA8wo3g9v-cf"
      },
      "execution_count": 5,
      "outputs": []
    },
    {
      "cell_type": "code",
      "source": [
        "#9. Write a class Fraction with attributes numerator and denominator. Override the str method to display the fraction as \"numerator/denominator\".\n",
        "\n",
        "class Fraction:\n",
        "    def __init__(self, numerator, denominator):\n",
        "        self.numerator = numerator\n",
        "        self.denominator = denominator\n",
        "\n",
        "    def __str__(self):\n",
        "        return f\"{self.numerator}/{self.denominator}\""
      ],
      "metadata": {
        "id": "Jugm6iujv8f9"
      },
      "execution_count": 6,
      "outputs": []
    },
    {
      "cell_type": "code",
      "source": [
        "#10. Demonstrate operator overloading by creating a class Vector and overriding the add method to add two vectors.\n",
        "\n",
        "class Vector:\n",
        "    def __init__(self, x, y):\n",
        "        self.x = x\n",
        "        self.y = y\n",
        "\n",
        "    def __add__(self, other):\n",
        "        return Vector(self.x + other.x, self.y + other.y)\n",
        "\n",
        "    def __str__(self):\n",
        "        return f\"Vector({self.x}, {self.y})\""
      ],
      "metadata": {
        "id": "m8Fz5ayBv8dQ"
      },
      "execution_count": 7,
      "outputs": []
    },
    {
      "cell_type": "code",
      "source": [
        "#11. Create a class Person with attributes name and age. Add a method greet() that prints \"Hello, my name is {name} and I am {age} years old.\"\n",
        "\n",
        "class Person:\n",
        "    def __init__(self, name, age):\n",
        "        self.name = name\n",
        "        self.age = age\n",
        "\n",
        "    def greet(self):\n",
        "        print(f\"Hello, my name is {self.name} and I am {self.age} years old.\")"
      ],
      "metadata": {
        "id": "0Ih3MDSJv8ax"
      },
      "execution_count": 8,
      "outputs": []
    },
    {
      "cell_type": "code",
      "source": [
        "#12. Implement a class Student with attributes name and grades. Create a method average_grade() to compute the average of the grades.\n",
        "\n",
        "class Student:\n",
        "    def __init__(self, name, grades):\n",
        "        self.name = name\n",
        "        self.grades = grades\n",
        "\n",
        "    def average_grade(self):\n",
        "        return sum(self.grades) / len(self.grades) if self.grades else 0"
      ],
      "metadata": {
        "id": "beQSQyZwv8X4"
      },
      "execution_count": 9,
      "outputs": []
    },
    {
      "cell_type": "code",
      "source": [
        "#13. Create a class Rectangle with methods set_dimensions() to set the dimensions and area() to calculate the area.\n",
        "\n",
        "class Rectangle:\n",
        "    def __init__(self):\n",
        "        self.width = 0\n",
        "        self.height = 0\n",
        "\n",
        "    def set_dimensions(self, width, height):\n",
        "        self.width = width\n",
        "        self.height = height\n",
        "\n",
        "    def area(self):\n",
        "        return self.width * self.height"
      ],
      "metadata": {
        "id": "z7XO1QaLv8VL"
      },
      "execution_count": 10,
      "outputs": []
    },
    {
      "cell_type": "code",
      "source": [
        "#14. Create a class Employee with a method calculate_salary() that computes the salary based on hours worked and hourly rate. Create a derived class Manager that adds a bonus to the salary.\n",
        "\n",
        "class Employee:\n",
        "    def __init__(self, hours_worked, hourly_rate):\n",
        "        self.hours_worked = hours_worked\n",
        "        self.hourly_rate = hourly_rate\n",
        "\n",
        "    def calculate_salary(self):\n",
        "        return self.hours_worked * self.hourly_rate\n",
        "\n",
        "class Manager(Employee):\n",
        "    def __init__(self, hours_worked, hourly_rate, bonus):\n",
        "        super().__init__(hours_worked, hourly_rate)\n",
        "        self.bonus = bonus\n",
        "\n",
        "    def calculate_salary(self):\n",
        "        return super().calculate_salary() + self.bonus"
      ],
      "metadata": {
        "id": "pI4VnaJBv8SS"
      },
      "execution_count": 11,
      "outputs": []
    },
    {
      "cell_type": "code",
      "source": [
        "#15. Create a class Product with attributes name, price, and quantity. Implement a method total_price() that calculates the total price of the product.\n",
        "\n",
        "class Product:\n",
        "    def __init__(self, name, price, quantity):\n",
        "        self.name = name\n",
        "        self.price = price\n",
        "        self.quantity = quantity\n",
        "\n",
        "    def total_price(self):\n",
        "        return self.price * self.quantity"
      ],
      "metadata": {
        "id": "jCi5i0pLv8Px"
      },
      "execution_count": 12,
      "outputs": []
    },
    {
      "cell_type": "code",
      "source": [
        "#16. Create a class Animal with an abstract method sound(). Create two derived classes Cow and Sheep that implement the sound() method.\n",
        "\n",
        "from abc import ABC, abstractmethod\n",
        "\n",
        "class Animal(ABC):\n",
        "    @abstractmethod\n",
        "    def sound(self):\n",
        "        pass\n",
        "\n",
        "class Cow(Animal):\n",
        "    def sound(self):\n",
        "        return \"Moo\"\n",
        "\n",
        "class Sheep(Animal):\n",
        "    def sound(self):\n",
        "        return \"Baa\""
      ],
      "metadata": {
        "id": "cSLSiWFnv8NB"
      },
      "execution_count": 13,
      "outputs": []
    },
    {
      "cell_type": "code",
      "source": [
        "#17. Create a class Book with attributes title, author, and year_published. Add a method get_book_info() that returns a formatted string with the book's details.\n",
        "\n",
        "class Book:\n",
        "    def __init__(self, title, author, year_published):\n",
        "        self.title = title\n",
        "        self.author = author\n",
        "        self.year_published = year_published\n",
        "\n",
        "    def get_book_info(self):\n",
        "        return f\"Title: {self.title}, Author: {self.author}, Year: {self.year_published}\""
      ],
      "metadata": {
        "id": "G_xr9ehWv8KW"
      },
      "execution_count": 14,
      "outputs": []
    },
    {
      "cell_type": "code",
      "source": [
        "#18. Create a class House with attributes address and price. Create a derived class Mansion that adds an attribute number_of_rooms.\n",
        "class House:\n",
        "    def __init__(self, address, price):\n",
        "        self.address = address\n",
        "        self.price = price\n",
        "\n",
        "class Mansion(House):\n",
        "    def __init__(self, address, price, number_of_rooms):\n",
        "        super().__init__(address, price)\n",
        "        self.number_of_rooms = number_of_rooms"
      ],
      "metadata": {
        "id": "Ddt-S2p5v8Hu"
      },
      "execution_count": 15,
      "outputs": []
    }
  ]
}