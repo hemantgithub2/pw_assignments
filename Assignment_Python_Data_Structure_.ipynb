{
  "nbformat": 4,
  "nbformat_minor": 0,
  "metadata": {
    "colab": {
      "provenance": []
    },
    "kernelspec": {
      "name": "python3",
      "display_name": "Python 3"
    },
    "language_info": {
      "name": "python"
    }
  },
  "cells": [
    {
      "cell_type": "markdown",
      "source": [
        "**Question 1:** What are data structures, and why are they important?\n",
        "\n",
        "**Answer 1:**\n",
        "Data structures are organized ways to store, manage, and retrieve data efficiently in a computer. They are important because they help in writing optimized code, handling large datasets, improving performance, and simplifying data operations like searching, sorting, insertion, and deletion.\n",
        "\n",
        "---\n",
        "\n",
        "**Question 2:** Explain the difference between mutable and immutable data types with examples.\n",
        "\n",
        "**Answer 2:**\n",
        "\n",
        "* **Mutable data types** can be changed after creation. Example: Lists – `my_list = [1, 2]; my_list.append(3)`\n",
        "* **Immutable data types** cannot be changed after creation. Example: Strings – `s = \"hello\"`; modifying it creates a new string.\n",
        "\n",
        "---\n",
        "\n",
        "**Question 3:** What are the main differences between lists and tuples in Python?\n",
        "\n",
        "**Answer 3:**\n",
        "\n",
        "* Lists are mutable, tuples are immutable.\n",
        "* Lists use square brackets `[]`, while tuples use parentheses `()`.\n",
        "* Tuples are generally faster and more memory efficient than lists.\n",
        "\n",
        "---\n",
        "\n",
        "**Question 4:** Describe how dictionaries store data.\n",
        "\n",
        "**Answer 4:**\n",
        "Dictionaries store data in key-value pairs using a hash table internally. Keys are unique and are hashed to index the values for fast access.\n",
        "\n",
        "---\n",
        "\n",
        "**Question 5:** Why might you use a set instead of a list in Python?\n",
        "\n",
        "**Answer 5:**\n",
        "A set ensures all elements are unique and provides faster membership checking than a list. It is used when duplicate values are not allowed.\n",
        "\n",
        "---\n",
        "\n",
        "**Question 6:** What is a string in Python, and how is it different from a list?\n",
        "\n",
        "**Answer 6:**\n",
        "A string is a sequence of characters and is immutable, meaning it cannot be changed after creation. A list is a mutable sequence that can contain items of different data types.\n",
        "\n",
        "---\n",
        "\n",
        "**Question 7:** How do tuples ensure data integrity in Python?\n",
        "\n",
        "**Answer 7:**\n",
        "Tuples are immutable, so once created, their contents cannot be changed. This makes them ideal for storing constant data and maintaining data integrity.\n",
        "\n",
        "---\n",
        "\n",
        "**Question 8:** What is a hash table, and how does it relate to dictionaries in Python?\n",
        "\n",
        "**Answer 8:**\n",
        "A hash table is a data structure that maps keys to values using a hash function. In Python, dictionaries are implemented using hash tables, allowing for fast key-based access.\n",
        "\n",
        "---\n",
        "\n",
        "**Question 9:** Can lists contain different data types in Python?\n",
        "\n",
        "**Answer 9:**\n",
        "Yes, lists in Python can contain elements of different data types, including integers, strings, floats, and even other lists.\n",
        "\n",
        "---\n",
        "\n",
        "**Question 10:** Explain why strings are immutable in Python.\n",
        "\n",
        "**Answer 10:**\n",
        "Strings are immutable to improve performance, ensure thread safety, and allow memory optimization through string interning. Modifying a string results in a new object.\n",
        "\n",
        "---\n",
        "\n",
        "**Question 11:** What advantages do dictionaries offer over lists for certain tasks?\n",
        "\n",
        "**Answer 11:**\n",
        "Dictionaries allow fast retrieval of data using keys instead of relying on index positions. They are more suitable for representing structured data like records.\n",
        "\n",
        "---\n",
        "\n",
        "**Question 12:** Describe a scenario where using a tuple would be preferable over a list.\n",
        "\n",
        "**Answer 12:**\n",
        "A tuple is preferable when storing fixed collections of items that should not change, such as geographical coordinates or dates.\n",
        "\n",
        "---\n",
        "\n",
        "**Question 13:** How do sets handle duplicate values in Python?\n",
        "\n",
        "**Answer 13:**\n",
        "Sets automatically remove duplicate values. Adding a duplicate to a set has no effect because sets only store unique elements.\n",
        "\n",
        "---\n",
        "\n",
        "**Question 14:** How does the “in” keyword work differently for lists and dictionaries?\n",
        "\n",
        "**Answer 14:**\n",
        "\n",
        "* In lists, `in` checks whether an item exists in the list.\n",
        "* In dictionaries, `in` checks whether a key exists, not the value.\n",
        "\n",
        "---\n",
        "\n",
        "**Question 15:** Can you modify the elements of a tuple? Explain why or why not.\n",
        "\n",
        "**Answer 15:**\n",
        "No, tuples are immutable, meaning their elements cannot be changed once the tuple is created.\n",
        "\n",
        "---\n",
        "\n",
        "**Question 16:** What is a nested dictionary, and give an example of its use case.\n",
        "\n",
        "**Answer 16:**\n",
        "A nested dictionary is a dictionary inside another dictionary.\n",
        "Example:\n",
        "\n",
        "```python\n",
        "student = {'name': 'Alice', 'marks': {'math': 90, 'science': 85}}\n",
        "```\n",
        "\n",
        "---\n",
        "\n",
        "**Question 17:** Describe the time complexity of accessing elements in a dictionary.\n",
        "\n",
        "**Answer 17:**\n",
        "Accessing an element in a dictionary using its key is O(1) on average, due to the hash table implementation.\n",
        "\n",
        "---\n",
        "\n",
        "**Question 18:** In what situations are lists preferred over dictionaries?\n",
        "\n",
        "**Answer 18:**\n",
        "Lists are preferred when order matters, when elements don’t need unique identifiers, or when you’re working with a sequence of values rather than key-value pairs.\n",
        "\n",
        "---\n",
        "\n",
        "**Question 19:** Why are dictionaries considered unordered, and how does that affect data retrieval?\n",
        "\n",
        "**Answer 19:**\n",
        "Dictionaries are considered unordered because they do not store items in a sequential order. This means you cannot access elements by position, only by key.\n",
        "\n",
        "---\n",
        "\n",
        "**Question 20:** Explain the difference between a list and a dictionary in terms of data retrieval.\n",
        "\n",
        "**Answer 20:**\n",
        "\n",
        "* Lists use indexes to retrieve data by position.\n",
        "* Dictionaries use keys to retrieve data directly. This makes dictionary lookups faster when dealing with labeled data.\n",
        "\n",
        "\n"
      ],
      "metadata": {
        "id": "XPyS9iz6JNMs"
      }
    },
    {
      "cell_type": "code",
      "source": [
        "#Question 1: Write a code to create a string with your name and print it.\n",
        "\n",
        "name = \"Hemant Pandey\"\n",
        "print(name)\n"
      ],
      "metadata": {
        "colab": {
          "base_uri": "https://localhost:8080/"
        },
        "id": "E2nrmma7KZUC",
        "outputId": "c06f8993-fa05-4028-d826-33d595c6d425"
      },
      "execution_count": 1,
      "outputs": [
        {
          "output_type": "stream",
          "name": "stdout",
          "text": [
            "Hemant Pandey\n"
          ]
        }
      ]
    },
    {
      "cell_type": "code",
      "source": [
        "#Question 2: Write a code to find the length of the string \"Hello World\".\n",
        "\n",
        "x = \"Hello World\"\n",
        "print(len(x))"
      ],
      "metadata": {
        "colab": {
          "base_uri": "https://localhost:8080/"
        },
        "id": "5R9Z_ALNKwUZ",
        "outputId": "bbfb1501-1e5e-4b53-bf3f-0a725e49e7b6"
      },
      "execution_count": 3,
      "outputs": [
        {
          "output_type": "stream",
          "name": "stdout",
          "text": [
            "11\n"
          ]
        }
      ]
    },
    {
      "cell_type": "code",
      "source": [
        "#Question 3: Write a code to slice the first 3 characters from the string \"Python Programming\".\n",
        "x = \"Python Programming\"\n",
        "print(x[:3])\n"
      ],
      "metadata": {
        "colab": {
          "base_uri": "https://localhost:8080/"
        },
        "id": "0P7EkB2YK59D",
        "outputId": "1e8c9f9b-46e6-4e7c-e10e-90cfe981ff53"
      },
      "execution_count": 4,
      "outputs": [
        {
          "output_type": "stream",
          "name": "stdout",
          "text": [
            "Pyt\n"
          ]
        }
      ]
    },
    {
      "cell_type": "code",
      "source": [
        "#Question 4: Write a code to convert the string \"hello\" to uppercase.\n",
        "\n",
        "s = \"hello\"\n",
        "print(s.upper())"
      ],
      "metadata": {
        "colab": {
          "base_uri": "https://localhost:8080/"
        },
        "id": "A3OB0TjILgoI",
        "outputId": "f9bd8e71-c1e0-4580-d09c-0c37d4a86298"
      },
      "execution_count": 5,
      "outputs": [
        {
          "output_type": "stream",
          "name": "stdout",
          "text": [
            "HELLO\n"
          ]
        }
      ]
    },
    {
      "cell_type": "code",
      "source": [
        "#Write a code to replace the word \"apple\" with \"orange\" in the string \"I like apple\".\n",
        "\n",
        "s = \"I like apple\"\n",
        "print(s.replace(\"apple\", \"orange\"))"
      ],
      "metadata": {
        "colab": {
          "base_uri": "https://localhost:8080/"
        },
        "id": "jerSH6MpLg5C",
        "outputId": "d9a87fb1-e26f-43ff-95e3-7fa871b45a9e"
      },
      "execution_count": 6,
      "outputs": [
        {
          "output_type": "stream",
          "name": "stdout",
          "text": [
            "I like orange\n"
          ]
        }
      ]
    },
    {
      "cell_type": "code",
      "source": [
        "#Write a code to create a list with numbers 1 to 5 and print it.\n",
        "\n",
        "numbers = [1, 2, 3, 4, 5]\n",
        "print(numbers)"
      ],
      "metadata": {
        "colab": {
          "base_uri": "https://localhost:8080/"
        },
        "id": "vsPORQdFLhKH",
        "outputId": "35bc36d3-ba35-45ef-ed09-5477e355838a"
      },
      "execution_count": 9,
      "outputs": [
        {
          "output_type": "stream",
          "name": "stdout",
          "text": [
            "[1, 2, 3, 4, 5]\n"
          ]
        }
      ]
    },
    {
      "cell_type": "code",
      "source": [
        "#Write a code to append the number 10 to the list [1, 2, 3, 4].\n",
        "\n",
        "numbers = [1, 2, 3, 4]\n",
        "numbers.append(10)\n",
        "print(numbers)"
      ],
      "metadata": {
        "colab": {
          "base_uri": "https://localhost:8080/"
        },
        "id": "yrNnbqN7LhZT",
        "outputId": "0241ec79-4b14-4286-8618-3ebeca236bdb"
      },
      "execution_count": 10,
      "outputs": [
        {
          "output_type": "stream",
          "name": "stdout",
          "text": [
            "[1, 2, 3, 4, 10]\n"
          ]
        }
      ]
    },
    {
      "cell_type": "code",
      "source": [
        "#Write a code to remove the number 3 from the list [1, 2, 3, 4, 5].\n",
        "\n",
        "numbers = [1, 2, 3, 4, 5]\n",
        "numbers.remove(3)\n",
        "print(numbers)"
      ],
      "metadata": {
        "colab": {
          "base_uri": "https://localhost:8080/"
        },
        "id": "eE0QKaTtLhov",
        "outputId": "fc90c864-34de-4c2c-82f8-8896d7ee81a0"
      },
      "execution_count": 11,
      "outputs": [
        {
          "output_type": "stream",
          "name": "stdout",
          "text": [
            "[1, 2, 4, 5]\n"
          ]
        }
      ]
    },
    {
      "cell_type": "code",
      "source": [
        "#Write a code to access the second element in the list ['a', 'b', 'c', 'd'].\n",
        "\n",
        "letters = ['a', 'b', 'c', 'd']\n",
        "print(letters[1])"
      ],
      "metadata": {
        "colab": {
          "base_uri": "https://localhost:8080/"
        },
        "id": "3Rb_IJssLh8D",
        "outputId": "85c9d23a-95ca-4f05-d073-138ca18e43c6"
      },
      "execution_count": 12,
      "outputs": [
        {
          "output_type": "stream",
          "name": "stdout",
          "text": [
            "b\n"
          ]
        }
      ]
    },
    {
      "cell_type": "code",
      "source": [
        "#Write a code to reverse the list [10, 20, 30, 40, 50].\n",
        "\n",
        "lst = [10, 20, 30, 40, 50]\n",
        "lst.reverse()\n",
        "print(lst)"
      ],
      "metadata": {
        "colab": {
          "base_uri": "https://localhost:8080/"
        },
        "id": "qYIoxucqLiQE",
        "outputId": "06dc809d-2d50-4932-d2e9-3ecc8c173e03"
      },
      "execution_count": 13,
      "outputs": [
        {
          "output_type": "stream",
          "name": "stdout",
          "text": [
            "[50, 40, 30, 20, 10]\n"
          ]
        }
      ]
    },
    {
      "cell_type": "code",
      "source": [
        "#Write a code to create a tuple with the elements 100, 200, 300 and print it.\n",
        "\n",
        "tup = (100, 200, 300)\n",
        "print(tup)"
      ],
      "metadata": {
        "colab": {
          "base_uri": "https://localhost:8080/"
        },
        "id": "_Hy_ZQSYLikF",
        "outputId": "3aaeeff3-ca7c-4095-8420-8aa48190bb4d"
      },
      "execution_count": 14,
      "outputs": [
        {
          "output_type": "stream",
          "name": "stdout",
          "text": [
            "(100, 200, 300)\n"
          ]
        }
      ]
    },
    {
      "cell_type": "code",
      "source": [
        "#Write a code to access the second-to-last element of the tuple ('red', 'green', 'blue', 'yellow').\n",
        "\n",
        "colors = ('red', 'green', 'blue', 'yellow')\n",
        "print(colors[-2])"
      ],
      "metadata": {
        "colab": {
          "base_uri": "https://localhost:8080/"
        },
        "id": "RwX7UV08Lizh",
        "outputId": "0f5c2d71-f8a8-49f1-ef0d-d1cee8379895"
      },
      "execution_count": 15,
      "outputs": [
        {
          "output_type": "stream",
          "name": "stdout",
          "text": [
            "blue\n"
          ]
        }
      ]
    },
    {
      "cell_type": "code",
      "source": [
        "#Write a code to find the minimum number in the tuple (10, 20, 5, 15).\n",
        "tup = (10, 20, 5, 15)\n",
        "print(min(tup))"
      ],
      "metadata": {
        "colab": {
          "base_uri": "https://localhost:8080/"
        },
        "id": "f8UApvLrLjoc",
        "outputId": "9880d755-4855-4647-e083-3c9115a8a9a6"
      },
      "execution_count": 17,
      "outputs": [
        {
          "output_type": "stream",
          "name": "stdout",
          "text": [
            "5\n"
          ]
        }
      ]
    },
    {
      "cell_type": "code",
      "source": [
        "# Write a code to find the index of the element \"cat\" in the tuple ('dog', 'cat', 'rabbit').\n",
        "animals = ('dog', 'cat', 'rabbit')\n",
        "print(animals.index('cat'))"
      ],
      "metadata": {
        "colab": {
          "base_uri": "https://localhost:8080/"
        },
        "id": "JYgNZjVQLj46",
        "outputId": "c7d410c0-358c-4fbc-bdee-10f88947564d"
      },
      "execution_count": 16,
      "outputs": [
        {
          "output_type": "stream",
          "name": "stdout",
          "text": [
            "1\n"
          ]
        }
      ]
    },
    {
      "cell_type": "code",
      "source": [
        "#Write a code to create a tuple containing three different fruits and check if \"kiwi\" is in it.\n",
        "\n",
        "fruits = ('apple', 'banana', 'orange')\n",
        "print(\"kiwi\" in fruits)"
      ],
      "metadata": {
        "id": "1_Wq5xZhLkKS"
      },
      "execution_count": null,
      "outputs": []
    },
    {
      "cell_type": "code",
      "source": [
        "#Write a code to create a set with the elements 'a', 'b', 'c' and print it.\n",
        "s = {'a', 'b', 'c'}\n",
        "print(s)"
      ],
      "metadata": {
        "id": "2hxVQmjrLkdK"
      },
      "execution_count": null,
      "outputs": []
    },
    {
      "cell_type": "code",
      "source": [
        "#Write a code to clear all elements from the set {1, 2, 3, 4, 5}.\n",
        "\n",
        "s = {1, 2, 3, 4, 5}\n",
        "s.clear()\n",
        "print(s)"
      ],
      "metadata": {
        "id": "slZ3-hFkLkrs"
      },
      "execution_count": null,
      "outputs": []
    },
    {
      "cell_type": "code",
      "source": [
        "#Write a code to remove the element 4 from the set {1, 2, 3, 4}.\n",
        "s = {1, 2, 3, 4}\n",
        "s.remove(4)\n",
        "print(s)"
      ],
      "metadata": {
        "id": "CtNkm8zsMwgf"
      },
      "execution_count": null,
      "outputs": []
    },
    {
      "cell_type": "code",
      "source": [
        "#Write a code to find the union of two sets {1, 2, 3} and {3, 4, 5}.\n",
        "\n",
        "a = {1, 2, 3}\n",
        "b = {3, 4, 5}\n",
        "print(a.union(b))"
      ],
      "metadata": {
        "id": "CQPCQi21Mwd6"
      },
      "execution_count": null,
      "outputs": []
    },
    {
      "cell_type": "code",
      "source": [
        "#Write a code to find the intersection of two sets {1, 2, 3} and {2, 3, 4}.\n",
        "\n",
        "a = {1, 2, 3}\n",
        "b = {2, 3, 4}\n",
        "print(a.intersection(b))"
      ],
      "metadata": {
        "id": "lCnUV23JMwbK"
      },
      "execution_count": null,
      "outputs": []
    },
    {
      "cell_type": "code",
      "source": [
        "#Write a code to create a dictionary with the keys \"name\", \"age\", and \"city\", and print it.\n",
        "\n",
        "person = {\"name\": \"John\", \"age\": 25, \"city\": \"New York\"}\n",
        "print(person)"
      ],
      "metadata": {
        "id": "pDRIXE7HMwYa"
      },
      "execution_count": null,
      "outputs": []
    },
    {
      "cell_type": "code",
      "source": [
        "#Write a code to add a new key-value pair \"country\": \"USA\" to the dictionary {'name': 'John', 'age': 25}.\n",
        "\n",
        "person = {'name': 'John', 'age': 25}\n",
        "person['country'] = 'USA'\n",
        "print(person)"
      ],
      "metadata": {
        "id": "PdNYDMxhMwV7"
      },
      "execution_count": null,
      "outputs": []
    },
    {
      "cell_type": "code",
      "source": [
        "#Write a code to access the value associated with the key \"name\" in the dictionary {'name': 'Alice', 'age': 30}.\n",
        "\n",
        "person = {'name': 'Alice', 'age': 30}\n",
        "print(person['name'])"
      ],
      "metadata": {
        "id": "c2nmj5GZMwTL"
      },
      "execution_count": null,
      "outputs": []
    },
    {
      "cell_type": "code",
      "source": [
        "#Write a code to remove the key \"age\" from the dictionary {'name': 'Bob', 'age': 22, 'city': 'New York'}.\n",
        "\n",
        "person = {'name': 'Bob', 'age': 22, 'city': 'New York'}\n",
        "del person['age']\n",
        "print(person)"
      ],
      "metadata": {
        "id": "CaaB_qn4MwQl"
      },
      "execution_count": null,
      "outputs": []
    },
    {
      "cell_type": "code",
      "source": [
        "#Write a code to check if the key \"city\" exists in the dictionary {'name': 'Alice', 'city': 'Paris'}.\n",
        "\n",
        "person = {'name': 'Alice', 'city': 'Paris'}\n",
        "print(\"city\" in person)"
      ],
      "metadata": {
        "id": "aKYOQ7TNMwNq"
      },
      "execution_count": null,
      "outputs": []
    },
    {
      "cell_type": "code",
      "source": [
        "#Write a code to create a list, a tuple, and a dictionary, and print them all.\n",
        "\n",
        "lst = [1, 2, 3]\n",
        "tup = (4, 5, 6)\n",
        "dic = {'a': 1, 'b': 2}\n",
        "print(lst, tup, dic)"
      ],
      "metadata": {
        "id": "yxoeN_RJMwJ2"
      },
      "execution_count": null,
      "outputs": []
    },
    {
      "cell_type": "code",
      "source": [
        "#Write a code to create a list of 5 random numbers between 1 and 100, sort it in ascending order, and print the result.\n",
        "\n",
        "import random\n",
        "lst = random.sample(range(1, 101), 5)\n",
        "lst.sort()\n",
        "print(lst)"
      ],
      "metadata": {
        "id": "ZGUa2_0INEqX"
      },
      "execution_count": null,
      "outputs": []
    },
    {
      "cell_type": "code",
      "source": [
        "#Write a code to create a list with strings and print the element at the third index.\n",
        "\n",
        "words = [\"apple\", \"banana\", \"cherry\", \"date\", \"fig\"]\n",
        "print(words[3])"
      ],
      "metadata": {
        "id": "B-Lgo4CFNEk8"
      },
      "execution_count": null,
      "outputs": []
    },
    {
      "cell_type": "code",
      "source": [
        "#Write a code to combine two dictionaries into one and print the result.\n",
        "\n",
        "dict1 = {'a': 1, 'b': 2}\n",
        "dict2 = {'c': 3, 'd': 4}\n",
        "combined = {**dict1, **dict2}\n",
        "print(combined)"
      ],
      "metadata": {
        "id": "YX2mpym7MwCu"
      },
      "execution_count": null,
      "outputs": []
    },
    {
      "cell_type": "code",
      "source": [
        "#Write a code to convert a list of strings into a set.\n",
        "\n",
        "str_list = ['a', 'b', 'c', 'a']\n",
        "str_set = set(str_list)\n",
        "print(str_set)"
      ],
      "metadata": {
        "colab": {
          "base_uri": "https://localhost:8080/"
        },
        "id": "8bnvsFpLMv0K",
        "outputId": "0ca72f7a-c5d6-4dec-836a-28ea70d43fdc"
      },
      "execution_count": 7,
      "outputs": [
        {
          "output_type": "stream",
          "name": "stdout",
          "text": [
            "{'a', 'c', 'b'}\n"
          ]
        }
      ]
    }
  ]
}