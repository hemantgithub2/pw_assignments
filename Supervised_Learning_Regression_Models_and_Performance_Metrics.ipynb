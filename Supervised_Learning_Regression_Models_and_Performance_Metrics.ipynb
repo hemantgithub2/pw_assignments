{
  "nbformat": 4,
  "nbformat_minor": 0,
  "metadata": {
    "colab": {
      "provenance": []
    },
    "kernelspec": {
      "name": "python3",
      "display_name": "Python 3"
    },
    "language_info": {
      "name": "python"
    }
  },
  "cells": [
    {
      "cell_type": "markdown",
      "source": [
        "**Question 1**: What is Simple Linear Regression (SLR)? Explain its purpose.\n",
        "\n",
        "**Answer 1** - Simple Linear Regression (SLR) is a statistical method used to model the relationship between two continuous variables — one independent variable (X) and one dependent variable (Y). It assumes a linear relationship, meaning changes in X produce proportional changes in Y.\n",
        "\n",
        "Purpose: The purpose of SLR is to predict the value of Y based on a known value of X and to understand the strength and nature of their relationship.\n",
        "\n",
        "**Question 2:** What are the key assumptions of Simple Linear Regression?\n",
        "**Answer - 2 **\n",
        "1. Linearity: The relationship between X and Y is linear.\n",
        "2. Independence: The observations are independent of each other.\n",
        "3. Homoscedasticity: The variance of residuals (errors) is constant across all levels of X.\n",
        "4. Normality of Errors: Residuals are normally distributed.\n",
        "5. No Multicollinearity: Since there is only one predictor, this is automatically satisfied.\n",
        "\n",
        "**Question 3:** Write the mathematical equation for a simple linear regression model and explain each term.\n",
        "**Answer - 3  **\n",
        "Y = β₀ + β₁X + ε\n",
        "\n",
        "Where:\n",
        "Y = Dependent variable (target)\n",
        "X = Independent variable (predictor)\n",
        "β₀ = Intercept (value of Y when X = 0)\n",
        "β₁ = Slope (change in Y for a one-unit change in X)\n",
        "ε = Error term (difference between actual and predicted values).\n",
        "\n",
        "**Question 4:** Provide a real-world example where simple linear regression can be applied.\n",
        "\n",
        "**Answer - 4 **\n",
        "A real-world example is predicting house prices based on their size (in square feet). Here, house size is the independent variable (X), and the house price is the dependent variable (Y). The model helps estimate how much the price changes for each additional square foot.\n",
        "\n",
        "**Question 5**: What is the method of least squares in linear regression?\n",
        "The method of least squares is used to find the best-fitting regression line by minimizing the sum of the squared differences between actual and predicted values of Y.\n",
        "\n",
        "\n",
        "**Answer- 5**\n",
        "Mathematically:\n",
        "Minimize Σ(Yi - Ŷi)²\n",
        "\n",
        "This ensures the line passes as close as possible to all data points.\n",
        "\n",
        "**Question 6**: What is Logistic Regression? How does it differ from Linear Regression?\n",
        "**Answer - 6 **\n",
        "Logistic Regression is used for classification problems where the output variable is categorical (e.g., 0 or 1). It predicts probabilities using the sigmoid (logistic) function.\n",
        "\n",
        "Differences:\n",
        "- Linear Regression: Predicts continuous values using Y = β₀ + β₁X\n",
        "- Logistic Regression: Predicts probability (0–1) using P(Y=1) = 1 / (1 + e^-(β₀ + β₁X))\n",
        "\n",
        "**Question 7**: Name and briefly describe three common evaluation metrics for regression models.\n",
        "\n",
        "**Answer - 7**\n",
        "1. Mean Absolute Error (MAE): Average of absolute differences between predicted and actual values.\n",
        "2. Mean Squared Error (MSE): Average of squared differences between predicted and actual values.\n",
        "3. Root Mean Squared Error (RMSE): Square root of MSE; interpretable in same units as Y.\n",
        "\n",
        "**Question 8**: What is the purpose of the R-squared metric in regression analysis?\n",
        "\n",
        "**Answer - 8 **\n",
        "R-squared (R²) measures how well the independent variable explains the variation in the dependent variable.\n",
        "\n",
        "Formula: R² = 1 - (SSres / SStot)\n",
        "\n",
        "It ranges from 0 to 1; higher values indicate a better fit of the model to the data.\n",
        "\n",
        "\n"
      ],
      "metadata": {
        "id": "uD3GX0qzxGC-"
      }
    },
    {
      "cell_type": "code",
      "source": [
        "#**Question 9**: Write Python code to fit a simple linear regression model using scikit-learn and print the slope and intercept.\n",
        "#**Answer - 9 **\n",
        "from sklearn.linear_model import LinearRegression\n",
        "import numpy as np\n",
        "# Sample data\n",
        "X = np.array([1, 2, 3, 4, 5]).reshape(-1, 1)\n",
        "Y = np.array([2, 4, 5, 4, 5])\n",
        "\n",
        "# Create and fit model\n",
        "model = LinearRegression()\n",
        "model.fit(X, Y)\n",
        "\n",
        "# Print slope and intercept\n",
        "print('Slope:', model.coef_[0])\n",
        "print('Intercept:', model.intercept_)\n",
        "\n",
        "#Output:\n",
        "#Slope: 0.6\n",
        "#Intercept: 2.2"
      ],
      "metadata": {
        "colab": {
          "base_uri": "https://localhost:8080/"
        },
        "id": "n8ztCt65y7X9",
        "outputId": "7da7a67e-7826-4708-d424-8fb8666c93fd"
      },
      "execution_count": 2,
      "outputs": [
        {
          "output_type": "stream",
          "name": "stdout",
          "text": [
            "Slope: 0.6\n",
            "Intercept: 2.2\n"
          ]
        }
      ]
    },
    {
      "cell_type": "markdown",
      "source": [
        "**Question 10:** How do you interpret the coefficients in a simple linear regression model?\n",
        "\n",
        "**Answer - 10**\n",
        "Intercept (β₀): The predicted value of Y when X = 0.\n",
        "Slope (β₁): Represents the average change in Y for a one-unit increase in X.\n",
        "If β₁ > 0 → Positive relationship (Y increases with X).\n",
        "If β₁ < 0 → Negative relationship (Y decreases with X)."
      ],
      "metadata": {
        "id": "AzXX5Q7yzBue"
      }
    }
  ]
}